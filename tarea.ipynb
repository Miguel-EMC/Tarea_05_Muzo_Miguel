{
 "cells": [
  {
   "cell_type": "markdown",
   "metadata": {},
   "source": [
    "# CONJUNTO DE EJERCICIOS"
   ]
  },
  {
   "cell_type": "markdown",
   "metadata": {},
   "source": [
    "### 1. Sea f(x)= -x^3-cos ⁡x  p_0= -1.  Use el método de Newton y de la Secante para encontrar p_2 . ¿Se podría usar p_0=0?."
   ]
  },
  {
   "cell_type": "code",
   "execution_count": 4,
   "metadata": {},
   "outputs": [
    {
     "data": {
      "text/plain": [
       "-0.8654740331016144"
      ]
     },
     "execution_count": 4,
     "metadata": {},
     "output_type": "execute_result"
    }
   ],
   "source": [
    "from scipy.optimize import newton\n",
    "import math\n",
    "newton(func= lambda x: -x**3 - math.cos(x), x0=-1)"
   ]
  },
  {
   "cell_type": "code",
   "execution_count": 22,
   "metadata": {},
   "outputs": [
    {
     "name": "stdout",
     "output_type": "stream",
     "text": [
      "Aproximación de la raíz: -0.8654740331016303\n"
     ]
    }
   ],
   "source": [
    "from math import cos\n",
    "\n",
    "def secant_method(func, x0, x1, tol=1e-6, max_iter=100):\n",
    "    iter_count = 0\n",
    "    while True:\n",
    "        x_next = x1 - (func(x1) * (x1 - x0)) / (func(x1) - func(x0))\n",
    "        if abs(x_next - x1) < tol or iter_count >= max_iter:\n",
    "            break\n",
    "        x0 = x1\n",
    "        x1 = x_next\n",
    "        iter_count += 1\n",
    "\n",
    "    return x_next\n",
    "\n",
    "def f(x):\n",
    "    return -x**3 - cos(x)\n",
    "\n",
    "x0 = -2\n",
    "x1 = -1\n",
    "root = secant_method(func=f, x0=x0, x1=x1)\n",
    "print(\"Aproximación de la raíz:\", root)"
   ]
  },
  {
   "cell_type": "markdown",
   "metadata": {},
   "source": [
    "¿Se podría usar p_0=0?\n",
    "\n",
    "Si se podria usuar p_0 = 0"
   ]
  },
  {
   "cell_type": "code",
   "execution_count": 11,
   "metadata": {},
   "outputs": [
    {
     "data": {
      "text/plain": [
       "-4.998000183473029e-09"
      ]
     },
     "execution_count": 11,
     "metadata": {},
     "output_type": "execute_result"
    }
   ],
   "source": [
    "from scipy.optimize import newton\n",
    "import math\n",
    "newton(func= lambda x: -x**3 - math.cos(x), x0=0)"
   ]
  },
  {
   "cell_type": "code",
   "execution_count": 20,
   "metadata": {},
   "outputs": [
    {
     "name": "stdout",
     "output_type": "stream",
     "text": [
      "Aproximación de la raíz: -0.8654740331016122\n"
     ]
    }
   ],
   "source": [
    "from math import cos\n",
    "\n",
    "def secant_method(func, x0, x1, tol=1e-6, max_iter=100):\n",
    "    iter_count = 0\n",
    "    while True:\n",
    "        x_next = x1 - (func(x1) * (x1 - x0)) / (func(x1) - func(x0))\n",
    "        # Verificar la convergencia\n",
    "        if abs(x_next - x1) < tol or iter_count >= max_iter:\n",
    "            break\n",
    "        # Actualizar los puntos para la siguiente iteración\n",
    "        x0 = x1\n",
    "        x1 = x_next\n",
    "        iter_count += 1\n",
    "\n",
    "    return x_next\n",
    "\n",
    "def f(x):\n",
    "    return -x**3 - cos(x)\n",
    "\n",
    "x0 = -2\n",
    "x1 = 0\n",
    "root = secant_method(func=f, x0=x0, x1=x1)\n",
    "print(\"Aproximación de la raíz:\", root)"
   ]
  },
  {
   "cell_type": "markdown",
   "metadata": {},
   "source": [
    "### 2. Encuentre soluciones precisas dentro de 10^(-10) para los siguientes problemas.\n"
   ]
  },
  {
   "cell_type": "markdown",
   "metadata": {},
   "source": [
    "x^3-2x^2-5=0,[1,4]"
   ]
  },
  {
   "cell_type": "markdown",
   "metadata": {},
   "source": [
    "x^3+3 x^2-1=0,[ -3,-2]\n"
   ]
  },
  {
   "cell_type": "markdown",
   "metadata": {},
   "source": [
    "x-cos⁡x=0,[0,π/2]"
   ]
  },
  {
   "cell_type": "markdown",
   "metadata": {},
   "source": [
    "x-0.8-0.2 cos⁡x=0,[0,π/2]"
   ]
  },
  {
   "cell_type": "code",
   "execution_count": 49,
   "metadata": {},
   "outputs": [
    {
     "name": "stdout",
     "output_type": "stream",
     "text": [
      "Solución del problema 1: 2.690647448028614\n",
      "Solución del problema 2: -2.87938524157183\n",
      "Solución del problema 3: 0.7390851332151607\n",
      "Solución del problema 4: 0.9210041841570643\n"
     ]
    }
   ],
   "source": [
    "from scipy.optimize import newton\n",
    "import math\n",
    "\n",
    "# Problema 1: x^3 - 2x^2 - 5 = 0 en [1, 4]\n",
    "solution1 = newton(lambda x: x**3 - 2*x**2 - 5, x0=2)\n",
    "\n",
    "# Problema 2: x^3 + 3x^2 - 1 = 0 en [-3, -2]\n",
    "solution2 = newton(lambda x: x**3 + 3*x**2 - 1, x0=-3)\n",
    "\n",
    "# Problema 3: x - cos(x) = 0 en [0, π/2]\n",
    "solution3 = newton(lambda x: x - math.cos(x), x0=0)\n",
    "\n",
    "# Problema 4: x - 0.8 - 0.2*cos(x) = 0 en [0, π/2]\n",
    "solution4 = newton(lambda x: x - 0.8 - 0.2*math.cos(x), x0=0)\n",
    "\n",
    "print(\"Solución del problema 1:\", solution1)\n",
    "print(\"Solución del problema 2:\", solution2)\n",
    "print(\"Solución del problema 3:\", solution3)\n",
    "print(\"Solución del problema 4:\", solution4)"
   ]
  },
  {
   "cell_type": "markdown",
   "metadata": {},
   "source": [
    "### 3. \tUse los 2 métodos en esta sección para encontrar las soluciones dentro de 10^(-5) para los siguientes problemas.\n"
   ]
  },
  {
   "cell_type": "markdown",
   "metadata": {},
   "source": [
    "3x-e^x=0 para 1 ≤x ≤2"
   ]
  },
  {
   "cell_type": "markdown",
   "metadata": {},
   "source": [
    "2x+3 cos⁡x-e^x=0 para 1 ≤x ≤2"
   ]
  },
  {
   "cell_type": "code",
   "execution_count": 50,
   "metadata": {},
   "outputs": [
    {
     "name": "stdout",
     "output_type": "stream",
     "text": [
      "Solución del problema 1 con el método de Newton: 1.5121345503731294\n",
      "Solución del problema 2 con el método de Newton: 1.2397146979773508\n"
     ]
    }
   ],
   "source": [
    "from scipy.optimize import newton\n",
    "import math\n",
    "\n",
    "# Problema 1: 3x - e^x = 0 para 1 ≤ x ≤ 2\n",
    "def f1(x):\n",
    "    return 3*x - math.exp(x)\n",
    "\n",
    "solution1_newton = newton(f1, x0=1.5, tol=1e-5)\n",
    "\n",
    "# Problema 2: 2x + 3cos(x) - e^x = 0 para 1 ≤ x ≤ 2\n",
    "def f2(x):\n",
    "    return 2*x + 3*math.cos(x) - math.exp(x)\n",
    "\n",
    "solution2_newton = newton(f2, x0=1.5, tol=1e-5)\n",
    "\n",
    "print(\"Solución del problema 1 con el método de Newton:\", solution1_newton)\n",
    "print(\"Solución del problema 2 con el método de Newton:\", solution2_newton)"
   ]
  },
  {
   "cell_type": "markdown",
   "metadata": {},
   "source": [
    "### 4.\tEl polinomio de cuarto grado "
   ]
  },
  {
   "cell_type": "markdown",
   "metadata": {},
   "source": [
    "f(x)=230x^4+18x^3+ 9x^2-221x-9"
   ]
  },
  {
   "cell_type": "markdown",
   "metadata": {},
   "source": [
    "Tiene dos ceros reales, uno en [-1,0] y el otro en [0,1]. Intente aproximar estos ceros dentro de 10^(-6) con:\n",
    "\n",
    "- El método de la secante (use los extremos como las estimaciones iniciales).\n",
    "- El método de Newton (use el punto medio como estimación inicial).\n"
   ]
  },
  {
   "cell_type": "code",
   "execution_count": 52,
   "metadata": {},
   "outputs": [
    {
     "name": "stdout",
     "output_type": "stream",
     "text": [
      "Aproximación del primer cero con el método de Newton: -0.04065928831575899\n",
      "Aproximación del segundo cero con el método de Newton: -0.040659288315758865\n"
     ]
    }
   ],
   "source": [
    "from scipy.optimize import newton\n",
    "\n",
    "def f(x):\n",
    "    return 230*x**4 + 18*x**3 + 9*x**2 - 221*x - 9\n",
    "\n",
    "def df(x):\n",
    "    return 920*x**3 + 54*x**2 + 18*x - 221\n",
    "\n",
    "solution_newton_1 = newton(f, x0=-0.5, fprime=df, tol=1e-6)\n",
    "solution_newton_2 = newton(f, x0=0.5, fprime=df, tol=1e-6)\n",
    "\n",
    "print(\"Aproximación del primer cero con el método de Newton:\", solution_newton_1)\n",
    "print(\"Aproximación del segundo cero con el método de Newton:\", solution_newton_2)\n"
   ]
  },
  {
   "cell_type": "markdown",
   "metadata": {},
   "source": [
    "### 5. La función f(x)=tan⁡πx-6  tiene cero en (1/π)  arcatangente 6 ≈0.447431543 . Sea p_0=0 y p_1=0.48 y use 10  iteraciones en cada uno de los siguientes métodos para aproximar esta raíz. ¿Cuál método es más eficaz y por qué?\n",
    "\n",
    "- método de bisección\n",
    "- método de Newton\n",
    "- método de la secante\n"
   ]
  },
  {
   "cell_type": "code",
   "execution_count": 53,
   "metadata": {},
   "outputs": [
    {
     "name": "stdout",
     "output_type": "stream",
     "text": [
      "Aproximación de la raíz con el método de bisección: 0.409921875\n",
      "Error absoluto del método de bisección: 0.037509668288746634\n",
      "Aproximación de la raíz con el método de Newton: -0.09014068289725592\n",
      "Error absoluto del método de Newton: 0.5375722261860025\n",
      "Aproximación de la raíz con el método de la secante: -0.09014068289725596\n",
      "Error absoluto del método de la secante: 0.5375722261860025\n"
     ]
    }
   ],
   "source": [
    "import numpy as np\n",
    "from scipy.optimize import newton\n",
    "\n",
    "# Definimos la función f(x)\n",
    "def f(x):\n",
    "    return np.tan(np.pi * x - 6)\n",
    "\n",
    "# Derivada de f(x)\n",
    "def derivative_f(x):\n",
    "    return np.pi / (np.cos(np.pi * x - 6))**2\n",
    "\n",
    "# Método de bisección\n",
    "def bisection_method(a, b, tol, iterations):\n",
    "    for i in range(iterations):\n",
    "        p = (a + b) / 2\n",
    "        if f(p) == 0 or (b - a) / 2 < tol:\n",
    "            return p\n",
    "        elif np.sign(f(p)) == np.sign(f(a)):\n",
    "            a = p\n",
    "        else:\n",
    "            b = p\n",
    "    return (a + b) / 2\n",
    "\n",
    "# Método de la secante\n",
    "def secant_method(p0, p1, tol, iterations):\n",
    "    q0, q1 = f(p0), f(p1)\n",
    "    for i in range(iterations):\n",
    "        p = p1 - q1 * (p1 - p0) / (q1 - q0)\n",
    "        if abs(p - p1) < tol:\n",
    "            return p\n",
    "        p0, p1 = p1, p\n",
    "        q0, q1 = q1, f(p)\n",
    "    return p\n",
    "\n",
    "# Valor real de la raíz\n",
    "real_root = (1 / np.pi) * np.arctan(6)\n",
    "p0_newton = 0\n",
    "p1_secant = 0.48\n",
    "\n",
    "approximation_bisection = bisection_method(0, 0.48, 1e-10, 10)\n",
    "approximation_newton = newton(f, p0_newton, fprime=derivative_f, tol=1e-10, maxiter=10)\n",
    "approximation_secant = secant_method(p0_newton, p1_secant, 1e-10, 10)\n",
    "\n",
    "# Calculamos los errores absolutos\n",
    "error_bisection = abs(approximation_bisection - real_root)\n",
    "error_newton = abs(approximation_newton - real_root)\n",
    "error_secant = abs(approximation_secant - real_root)\n",
    "\n",
    "print(\"Aproximación de la raíz con el método de bisección:\", approximation_bisection)\n",
    "print(\"Error absoluto del método de bisección:\", error_bisection)\n",
    "print(\"Aproximación de la raíz con el método de Newton:\", approximation_newton)\n",
    "print(\"Error absoluto del método de Newton:\", error_newton)\n",
    "print(\"Aproximación de la raíz con el método de la secante:\", approximation_secant)\n",
    "print(\"Error absoluto del método de la secante:\", error_secant)\n"
   ]
  },
  {
   "cell_type": "markdown",
   "metadata": {},
   "source": [
    "### 6. La función descrita por f(x)=In(x^2+1)-e^0.4x  cos⁡πx   tiene un número infinito de ceros."
   ]
  },
  {
   "cell_type": "markdown",
   "metadata": {},
   "source": [
    "- Determine, dentro de 10^(-6), el único cero negativo.\n",
    "- Determine, dentro de 10^(-6), los cuatro ceros positivos más pequeños.\n",
    "- Determine una aproximación inicial razonable para encontrar el enésimo cero positivo más pequeño de f. [Sugerencia: Dibuje una gráfica aproximada de f].\n"
   ]
  },
  {
   "cell_type": "code",
   "execution_count": 54,
   "metadata": {},
   "outputs": [
    {
     "data": {
      "image/png": "[encoded data removed]",
      "text/plain": [
       "<Figure size 640x480 with 1 Axes>"
      ]
     },
     "metadata": {},
     "output_type": "display_data"
    }
   ],
   "source": [
    "import numpy as np\n",
    "import matplotlib.pyplot as plt\n",
    "\n",
    "def f(x):\n",
    "    return np.log(x**2 + 1) - np.exp(0.4 * x) * np.cos(np.pi * x)\n",
    "\n",
    "# Graficar la función en el intervalo [-2, 5]\n",
    "x = np.linspace(-2, 5, 1000)\n",
    "y = f(x)\n",
    "\n",
    "plt.plot(x, y)\n",
    "plt.axhline(0, color='red', linestyle='--')\n",
    "plt.title(\"Gráfica de f(x) = ln(x^2 + 1) - e^(0.4x) cos(πx)\")\n",
    "plt.xlabel(\"x\")\n",
    "plt.ylabel(\"f(x)\")\n",
    "plt.grid()\n",
    "plt.show()\n"
   ]
  },
  {
   "cell_type": "code",
   "execution_count": 58,
   "metadata": {},
   "outputs": [
    {
     "name": "stdout",
     "output_type": "stream",
     "text": [
      "Cero 1: -0.434143\n",
      "Cero 2: 0.450657\n",
      "Cero 3: 1.744738\n",
      "Cero 4: 2.238320\n",
      "Cero 5: 3.709041\n",
      "Aproximación inicial para el 5° cero positivo más pequeño: 5.500000\n"
     ]
    }
   ],
   "source": [
    "import numpy as np\n",
    "import matplotlib.pyplot as plt\n",
    "from scipy.optimize import newton, root_scalar\n",
    "\n",
    "# Definimos la función f(x)\n",
    "def f(x):\n",
    "    return np.log(x**2 + 1) - np.exp(0.4 * x) * np.cos(np.pi * x)\n",
    "\n",
    "# Definimos la derivada de la función f(x)\n",
    "def df(x):\n",
    "    return (2 * x / (x**2 + 1)) - (0.4 * np.exp(0.4 * x) * np.cos(np.pi * x) + np.pi * np.exp(0.4 * x) * np.sin(np.pi * x))\n",
    "\n",
    "initial_guesses = [-0.5, 0.5, 1.5, 2.5, 3.5]\n",
    "\n",
    "zeros = []\n",
    "for guess in initial_guesses:\n",
    "    try:\n",
    "        zero = newton(f, guess, fprime=df, tol=1e-6, maxiter=100)\n",
    "    except RuntimeError:\n",
    "        result = root_scalar(f, x0=guess, x1=guess + 0.1, method='secant', xtol=1e-6)\n",
    "        zero = result.root\n",
    "    zeros.append(zero)\n",
    "\n",
    "for i, zero in enumerate(zeros):\n",
    "    print(f\"Cero {i+1}: {zero:.6f}\")\n",
    "\n",
    "def nth_zero_approximation(n):\n",
    "    return (n + 0.5) \n",
    "\n",
    "n = 5\n",
    "approximation = nth_zero_approximation(n)\n",
    "print(f\"Aproximación inicial para el {n}° cero positivo más pequeño: {approximation:.6f}\")\n"
   ]
  },
  {
   "cell_type": "code",
   "execution_count": 59,
   "metadata": {},
   "outputs": [
    {
     "data": {
      "image/png": "[encoded data removed]",
      "text/plain": [
       "<Figure size 640x480 with 1 Axes>"
      ]
     },
     "metadata": {},
     "output_type": "display_data"
    }
   ],
   "source": [
    "# Graficar la función en el intervalo [-2, 5]\n",
    "x = np.linspace(-2, 5, 1000)\n",
    "y = f(x)\n",
    "plt.plot(x, y)\n",
    "plt.axhline(0, color='red', linestyle='--')\n",
    "plt.title(\"Gráfica de f(x) = ln(x^2 + 1) - e^(0.4x) cos(πx)\")\n",
    "plt.xlabel(\"x\")\n",
    "plt.ylabel(\"f(x)\")\n",
    "plt.grid()\n",
    "plt.show()"
   ]
  },
  {
   "cell_type": "markdown",
   "metadata": {},
   "source": [
    "### 7. \tLa función f(x)=x^(1/3) tiene raíz en x = 0. Usando el punto de inicio de x=1 y p_0=5,p1=0.5 para el método de secante, compare los resultados de los métodos de la secante y de Newton. "
   ]
  },
  {
   "cell_type": "code",
   "execution_count": 64,
   "metadata": {},
   "outputs": [
    {
     "name": "stdout",
     "output_type": "stream",
     "text": [
      "Raíz encontrada por el método de Newton: Failed to converge after 100 iterations, value is 6.3382530011411456e+29.\n",
      "Raíz encontrada por el método de la secante: 0.151260\n"
     ]
    }
   ],
   "source": [
    "import numpy as np\n",
    "from scipy.optimize import newton, root_scalar\n",
    "\n",
    "def f(x):\n",
    "    return np.cbrt(x)  \n",
    "def df(x):\n",
    "    return 1 / (3 * np.cbrt(x**2))\n",
    "\n",
    "p0_secante = 5\n",
    "p1_secante = 0.5\n",
    "x0_newton = 0.5  \n",
    "\n",
    "# Método de Newton\n",
    "try:\n",
    "    newton_root = newton(f, x0_newton, fprime=df, tol=1e-6, maxiter=100)\n",
    "except RuntimeError as e:\n",
    "    newton_root = str(e)\n",
    "\n",
    "# Método de la secante\n",
    "secant_root = root_scalar(f, method='secant', x0=p0_secante, x1=p1_secante, xtol=1e-6)\n",
    "\n",
    "# Imprimir los resultados\n",
    "print(f\"Raíz encontrada por el método de Newton: {newton_root}\")\n",
    "print(f\"Raíz encontrada por el método de la secante: {secant_root.root:.6f}\")\n"
   ]
  }
 ],
 "metadata": {
  "kernelspec": {
   "display_name": "Python 3",
   "language": "python",
   "name": "python3"
  },
  "language_info": {
   "codemirror_mode": {
    "name": "ipython",
    "version": 3
   },
   "file_extension": ".py",
   "mimetype": "text/x-python",
   "name": "python",
   "nbconvert_exporter": "python",
   "pygments_lexer": "ipython3",
   "version": "3.12.2"
  }
 },
 "nbformat": 4,
 "nbformat_minor": 2
}
